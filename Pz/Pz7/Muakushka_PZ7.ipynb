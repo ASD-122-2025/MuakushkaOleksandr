{
 "cells": [
  {
   "cell_type": "markdown",
   "id": "f897111f-dfc3-4467-b1e4-cb1d8096bc41",
   "metadata": {},
   "source": [
    "# Задача: Знайти найдовшу спільну підпослідовність (LCS) за алгоритмом Хаббарда\n",
    "\n",
    "## Контрольні питання\n",
    "\n",
    "1. **У чому полягає задача знаходження найдовшої спільної підпослідовності (LCS)?**  \n",
    "   Задача полягає у пошуку максимальної за довжиною підпослідовності, яка одночасно є підпослідовністю для обох заданих послідовностей символів.\n",
    "\n",
    "2. **Які головні методи можна використовувати для знаходження найдовшої спільної підпослідовності?**  \n",
    "   Основні методи — це динамічне програмування, алгоритм Хаббарда та рекурсивні підходи з мемоізацією.\n",
    "\n",
    "3. **Як працює алгоритм динамічного програмування для знаходження LCS?**  \n",
    "   Він створює матрицю, де кожен елемент dp[i][j] зберігає довжину LCS для підпослідовностей довжиною i та j відповідно, поступово заповнюючи її на основі порівняння символів.\n",
    "\n",
    "4. **Як працює алгоритм Хаббарда для знаходження LCS?**  \n",
    "   Алгоритм Хаббарда оптимізує стандартний метод динамічного програмування, зменшуючи використання пам’яті та покращуючи швидкодію за допомогою поділу задачі та злиття результатів.\n",
    "\n",
    "5. **Які переваги та недоліки алгоритмів динамічного програмування та Хаббарда для знаходження LCS?**  \n",
    "   - ДП простий у реалізації, але потребує багато пам’яті.  \n",
    "   - Хаббард ефективніший по пам’яті і швидкості, але складніший для розуміння та реалізації.\n",
    "\n",
    "6. **Які існують практичні застосування для задачі знаходження найдовшої спільної підпослідовності?**  \n",
    "   Вирівнювання послідовностей у біоінформатиці, порівняння текстів, системи контролю версій, аналіз даних.\n",
    "\n",
    "---\n",
    "\n",
    "## Реалізація пошуку LCS (динамічне програмування)\n",
    "\n"
   ]
  },
  {
   "cell_type": "code",
   "id": "6c35c852-686a-4f4d-9092-4fb146969d95",
   "metadata": {
    "ExecuteTime": {
     "end_time": "2025-06-03T06:08:26.165251Z",
     "start_time": "2025-06-03T06:08:26.157709Z"
    }
   },
   "source": [
    "\n",
    "def lcs_dp(a, b):\n",
    "    n, m = len(a), len(b)\n",
    "    dp = [[0] * (m + 1) for _ in range(n + 1)]\n",
    "\n",
    "\n",
    "    for i in range(n):\n",
    "        for j in range(m):\n",
    "            if a[i] == b[j]:\n",
    "                dp[i + 1][j + 1] = dp[i][j] + 1\n",
    "            else:\n",
    "                dp[i + 1][j + 1] = max(dp[i][j + 1], dp[i + 1][j])\n",
    "\n",
    "\n",
    "    i, j = n, m\n",
    "    lcs = []\n",
    "    while i > 0 and j > 0:\n",
    "        if a[i - 1] == b[j - 1]:\n",
    "            lcs.append(a[i - 1])\n",
    "            i -= 1\n",
    "            j -= 1\n",
    "        elif dp[i - 1][j] >= dp[i][j - 1]:\n",
    "            i -= 1\n",
    "        else:\n",
    "            j -= 1\n",
    "    lcs.reverse()\n",
    "    return ''.join(lcs), dp\n",
    "\n",
    "\n",
    "a = \"ACBDGH\"\n",
    "b = \"AEDFHR\"\n",
    "\n",
    "result, dp_matrix = lcs_dp(a, b)\n",
    "print(\"Найдовша спільна підпослідовність:\", result)\n"
   ],
   "outputs": [
    {
     "name": "stdout",
     "output_type": "stream",
     "text": [
      "Найдовша спільна підпослідовність: ADH\n"
     ]
    }
   ],
   "execution_count": 5
  },
  {
   "cell_type": "markdown",
   "id": "219c4e0f-3fdd-4cdd-aedf-8a4c1fadfa9b",
   "metadata": {},
   "source": [
    "## Візуалізація цього коду"
   ]
  },
  {
   "cell_type": "code",
   "id": "c92f9da1-7745-40c7-bbfd-6e4ff7b8fc19",
   "metadata": {
    "ExecuteTime": {
     "end_time": "2025-06-03T06:08:30.403161Z",
     "start_time": "2025-06-03T06:08:30.188313Z"
    }
   },
   "source": [
    "import networkx as nx\n",
    "import matplotlib.pyplot as plt\n",
    "\n",
    "import seaborn as sns\n",
    "import matplotlib.pyplot as plt\n",
    "import numpy as np\n",
    "\n",
    "\n",
    "def plot_lcs_matrix(dp, a, b):\n",
    "    data = np.array(dp)\n",
    "    plt.figure(figsize=(8, 6))\n",
    "    sns.heatmap(data, annot=True, cmap=\"Blues\", fmt=\"d\", cbar=False,\n",
    "                xticklabels=[\"\"] + list(b),\n",
    "                yticklabels=[\"\"] + list(a))\n",
    "    plt.title(\"Матриця динамічного програмування для LCS\")\n",
    "    plt.xlabel(\"Рядок B\")\n",
    "    plt.ylabel(\"Рядок A\")\n",
    "    plt.show()\n",
    "\n",
    "\n",
    "plot_lcs_matrix(dp_matrix, a, b)"
   ],
   "outputs": [
    {
     "data": {
      "text/plain": [
       "<Figure size 800x600 with 1 Axes>"
      ],
      "image/png": "[encoded data removed]"
     },
     "metadata": {},
     "output_type": "display_data"
    }
   ],
   "execution_count": 6
  }
 ],
 "metadata": {
  "kernelspec": {
   "display_name": "Levchenko_OpenCV",
   "language": "python",
   "name": "levchenko_opencv"
  },
  "language_info": {
   "codemirror_mode": {
    "name": "ipython",
    "version": 3
   },
   "file_extension": ".py",
   "mimetype": "text/x-python",
   "name": "python",
   "nbconvert_exporter": "python",
   "pygments_lexer": "ipython3",
   "version": "3.13.2"
  }
 },
 "nbformat": 4,
 "nbformat_minor": 5
}
