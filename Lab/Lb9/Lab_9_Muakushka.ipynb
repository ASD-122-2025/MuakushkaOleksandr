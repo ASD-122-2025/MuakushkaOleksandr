{
 "cells": [
  {
   "cell_type": "markdown",
   "id": "1c97b977-bb62-45c2-8028-0b89176728b9",
   "metadata": {},
   "source": [
    "# Лабораторна робота №9"
   ]
  },
  {
   "cell_type": "markdown",
   "id": "710096c7-e7ea-44cd-989a-55effb8436ca",
   "metadata": {},
   "source": [
    "## Тема: Алгоритми на рядках\n",
    "## Мета: Освоїти низку основних алгоритмів на рядках засобами мови Python."
   ]
  },
  {
   "cell_type": "markdown",
   "id": "81078a1c-c086-4d7f-81da-a3b7b71c1b78",
   "metadata": {},
   "source": [
    "## 1. Ознайомитися з короткими теоритичними відомостями."
   ]
  },
  {
   "cell_type": "markdown",
   "id": "48526b70-4f7a-470e-91a6-799e1604778c",
   "metadata": {},
   "source": [
    "## 2. Повторити код, наведений в лабораторній роботі для довільних рядків."
   ]
  },
  {
   "cell_type": "markdown",
   "id": "660fae76-9b7c-463e-84ca-ea0bc430f87c",
   "metadata": {},
   "source": [
    "## Наївний пошук шаблонів"
   ]
  },
  {
   "cell_type": "code",
   "id": "0beb11eb-03a9-4db3-992f-116eb470e1cb",
   "metadata": {
    "ExecuteTime": {
     "end_time": "2025-06-03T03:54:00.877576Z",
     "start_time": "2025-06-03T03:54:00.865118Z"
    }
   },
   "source": [
    "def naive_match(p, t):\n",
    "    assert len(p) <= len(t)\n",
    "    occurrences = []\n",
    "    for i in range(len(t) - len(p) + 1):\n",
    "        match = True\n",
    "        for j in range(len(p)):\n",
    "            if t[i + j] != p[j]:\n",
    "                match = False\n",
    "                break\n",
    "        if match:\n",
    "            occurrences.append(i)\n",
    "    return occurrences\n",
    "\n",
    "print(\"Наївний пошук:\", naive_match('needle', 'bebebbeneedle'))"
   ],
   "outputs": [
    {
     "name": "stdout",
     "output_type": "stream",
     "text": [
      "Наївний пошук: [7]\n"
     ]
    }
   ],
   "execution_count": 1
  },
  {
   "cell_type": "markdown",
   "id": "88476ec7-1eea-449b-8a47-84d504f2edbf",
   "metadata": {},
   "source": [
    "## Z-функція"
   ]
  },
  {
   "cell_type": "code",
   "id": "48aa5f99-301c-4852-bf65-494d624115cb",
   "metadata": {
    "ExecuteTime": {
     "end_time": "2025-06-03T03:54:12.152506Z",
     "start_time": "2025-06-03T03:54:12.146566Z"
    }
   },
   "source": [
    "def z_func(s):\n",
    "    n = len(s)\n",
    "    Z = [0] * n\n",
    "    l, r = 0, 0\n",
    "    for i in range(1, n):\n",
    "        if i <= r:\n",
    "            Z[i] = min(r - i + 1, Z[i - l])\n",
    "        while i + Z[i] < n and s[Z[i]] == s[i + Z[i]]:\n",
    "            Z[i] += 1\n",
    "        if i + Z[i] - 1 > r:\n",
    "            l, r = i, i + Z[i] - 1\n",
    "    Z[0] = n\n",
    "    return Z\n",
    "\n",
    "print(\"Z-функція:\", z_func(\"admalkmlamfal\"))"
   ],
   "outputs": [
    {
     "name": "stdout",
     "output_type": "stream",
     "text": [
      "Z-функція: [13, 0, 0, 1, 0, 0, 0, 0, 1, 0, 0, 1, 0]\n"
     ]
    }
   ],
   "execution_count": 2
  },
  {
   "cell_type": "markdown",
   "id": "b980aa67-11ed-4f5e-8f91-def1b5c63504",
   "metadata": {},
   "source": "## Пошук підрядка в рядку за допомогою Z-функції"
  },
  {
   "cell_type": "code",
   "id": "58ca752b-6c93-49b0-9f9a-ec896160f0fb",
   "metadata": {
    "ExecuteTime": {
     "end_time": "2025-06-03T03:54:20.271040Z",
     "start_time": "2025-06-03T03:54:20.266101Z"
    }
   },
   "source": [
    "def zMatch(p, t):\n",
    "    s = p + \"$\" + t\n",
    "    Z = z_func(s)\n",
    "    occurrences = []\n",
    "    for i in range(len(p) + 1, len(s)):\n",
    "        if Z[i] == len(p):\n",
    "            occurrences.append(i - len(p) - 1)\n",
    "    return occurrences\n",
    "\n",
    "print(\"Пошук підрядка:\", zMatch(\"оу\", \"аоулаодіадіа\"))"
   ],
   "outputs": [
    {
     "name": "stdout",
     "output_type": "stream",
     "text": [
      "Пошук підрядка: [1]\n"
     ]
    }
   ],
   "execution_count": 3
  },
  {
   "cell_type": "markdown",
   "id": "33fc291c-e5f0-4bf0-a962-f2d31834ee40",
   "metadata": {},
   "source": "## Стиснення рядка за допомогою Z-функції"
  },
  {
   "cell_type": "code",
   "id": "6c556e70-4314-482d-b4b2-5c28e532868d",
   "metadata": {
    "ExecuteTime": {
     "end_time": "2025-06-03T03:54:29.411163Z",
     "start_time": "2025-06-03T03:54:29.404476Z"
    }
   },
   "source": [
    "def compress_with_z(s):\n",
    "    z_vec = z_func(s)\n",
    "    for i in range(1, len(s)):\n",
    "        if (i + z_vec[i] == len(s)) and (len(s) % i == 0):\n",
    "            return s[:i]\n",
    "    return s\n",
    "\n",
    "s = \"пупупупупупупупупу\"\n",
    "print(\"Z-вектор:\", z_func(s))\n",
    "print(\"Стиснений рядок:\", compress_with_z(s))"
   ],
   "outputs": [
    {
     "name": "stdout",
     "output_type": "stream",
     "text": [
      "Z-вектор: [18, 0, 16, 0, 14, 0, 12, 0, 10, 0, 8, 0, 6, 0, 4, 0, 2, 0]\n",
      "Стиснений рядок: пу\n"
     ]
    }
   ],
   "execution_count": 4
  },
  {
   "cell_type": "markdown",
   "id": "1c1bb571-6ef8-44ca-88cf-2ab23fa77fe9",
   "metadata": {},
   "source": [
    "## 3. Пояснити асимптотику наївного алгоритму пошуку підрядка."
   ]
  },
  {
   "cell_type": "markdown",
   "id": "ad61c270-da1b-40d5-b954-a1c67bdf1147",
   "metadata": {},
   "source": [
    "### В найгіршому випадку асимптотика наївного алгоритму дорівнює - О(n*m), оскільки нам приходиться проходити обидва рядки повністю і робоити с кожним символом порівняння. \n",
    "### В найркащому випадку асимптотика дорівнює  - O(n), оскільки ми с першого проходу отримуємо результат.\n",
    "### В звичайному випадку частіше за все ми будемо бачити щось приблизно схоже на O(n*m)."
   ]
  },
  {
   "cell_type": "markdown",
   "id": "c159562e-3bfe-484a-b9e2-8b1c8cb34475",
   "metadata": {},
   "source": [
    "## 4. Обчислити асимптотичну складність алгоритму стиснення рядка за допомогою 𝑧-функції."
   ]
  },
  {
   "cell_type": "markdown",
   "id": "120dbf05-fcc2-4ca2-bbbb-a05abd9af057",
   "metadata": {},
   "source": [
    "### Стиснення рядка цим методом відбувається посимвольним перебиранням рядка зліва направо, в будь яких випадках алгоритм пройде по кожному символу максимум два рази, отже ніяких важких факторів - стабільне O(n)."
   ]
  },
  {
   "cell_type": "markdown",
   "id": "b0dcac8c-4b4e-4ec9-885f-08b55f74f911",
   "metadata": {},
   "source": [
    "## 5. Контрольні запитання"
   ]
  },
  {
   "cell_type": "markdown",
   "id": "5c5a3052-8948-4682-943e-7654df1bb3db",
   "metadata": {},
   "source": [
    "### 1. Префікс функція - це довжина найбільшого власного префікса, що є суфіксом, Z - функція - це довжина найбільшого префікса, що збігається з підрядком з i.\n",
    "### 2. Z - функція - це інструмент для ефективного розпізнавання повторюваних шаблонів, префіксів, а також для швидкого пошуку підрядків у тексті. Її використовують у багатьох класичних задачах алгоритмів на рядках.\n",
    "### 3. Z-функція , динамічне програмування та суфіксні дерева.\n",
    "### 4. Пошук ключових слів, знаходженя схожих моментів в текстах, стиснення тексту, машинний переклад , вирівнювання рядків."
   ]
  },
  {
   "cell_type": "markdown",
   "id": "6b2a76e0-9028-4674-9460-03eed159929f",
   "metadata": {},
   "source": [
    "## Висновок"
   ]
  },
  {
   "cell_type": "markdown",
   "id": "806fb2bd-77f2-4044-be9d-11b44fca8808",
   "metadata": {},
   "source": [
    "### Під час цієї лабораторної роботи ми освоїли низку основних алгоритмів на рядках засобами мови Python."
   ]
  }
 ],
 "metadata": {
  "kernelspec": {
   "display_name": "Python [conda env:Mykhailyk_OpenCV]",
   "language": "python",
   "name": "conda-env-Mykhailyk_OpenCV-py"
  },
  "language_info": {
   "codemirror_mode": {
    "name": "ipython",
    "version": 3
   },
   "file_extension": ".py",
   "mimetype": "text/x-python",
   "name": "python",
   "nbconvert_exporter": "python",
   "pygments_lexer": "ipython3",
   "version": "3.13.2"
  }
 },
 "nbformat": 4,
 "nbformat_minor": 5
}
